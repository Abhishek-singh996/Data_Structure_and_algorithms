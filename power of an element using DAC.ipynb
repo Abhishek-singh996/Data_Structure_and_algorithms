{
 "cells": [
  {
   "cell_type": "code",
   "execution_count": 3,
   "id": "9b74d661",
   "metadata": {},
   "outputs": [
    {
     "name": "stdout",
     "output_type": "stream",
     "text": [
      "result is: 36893488147419103232\n"
     ]
    }
   ],
   "source": [
    "def DAC_Power(a,n):\n",
    "    if n==1:\n",
    "        return a\n",
    "    else:\n",
    "        mid = n//2\n",
    "        b = DAC_Power(a,mid)\n",
    "        c = b*b\n",
    "        if n%2==0:\n",
    "            return c\n",
    "        else:\n",
    "            return (c*a)\n",
    "a = 2\n",
    "n = 65\n",
    "result = DAC_Power(a,n)\n",
    "print(\"result is:\",result)"
   ]
  },
  {
   "cell_type": "code",
   "execution_count": null,
   "id": "8b5f5325",
   "metadata": {},
   "outputs": [],
   "source": [
    "\n"
   ]
  }
 ],
 "metadata": {
  "kernelspec": {
   "display_name": "Python 3.9 (tensorflow)",
   "language": "python",
   "name": "tensorflow"
  },
  "language_info": {
   "codemirror_mode": {
    "name": "ipython",
    "version": 3
   },
   "file_extension": ".py",
   "mimetype": "text/x-python",
   "name": "python",
   "nbconvert_exporter": "python",
   "pygments_lexer": "ipython3",
   "version": "3.9.7"
  }
 },
 "nbformat": 4,
 "nbformat_minor": 5
}
