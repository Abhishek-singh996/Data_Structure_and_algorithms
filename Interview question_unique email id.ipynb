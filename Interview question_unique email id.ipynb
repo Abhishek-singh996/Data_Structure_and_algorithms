{
 "cells": [
  {
   "cell_type": "code",
   "execution_count": 3,
   "id": "8af15759",
   "metadata": {},
   "outputs": [
    {
     "name": "stdout",
     "output_type": "stream",
     "text": [
      "number of unique email address is: 2\n"
     ]
    }
   ],
   "source": [
    "def numUniqueEmails(emails):\n",
    "    unique_emails = set()\n",
    "    for email in emails:\n",
    "        local_name,domain_name = email.split('@')\n",
    "        #rule 1 + rule 2\n",
    "        local_rule = local_name.split('+')[0].replace('.','')\n",
    "        unique_emails.add(local_rule+'@'+domain_name)\n",
    "    return len(unique_emails)\n",
    "\n",
    "emails = [\"test.email+alex@leetcode.com\",\"test.email+bob.cathly@leetcode.com\",\"testemail+david@leet.tcode.com\"]\n",
    "count = numUniqueEmails(emails)\n",
    "print(\"number of unique email address is:\",count)"
   ]
  },
  {
   "cell_type": "code",
   "execution_count": null,
   "id": "90eaf5a1",
   "metadata": {},
   "outputs": [],
   "source": []
  }
 ],
 "metadata": {
  "kernelspec": {
   "display_name": "Python 3.9 (tensorflow)",
   "language": "python",
   "name": "tensorflow"
  },
  "language_info": {
   "codemirror_mode": {
    "name": "ipython",
    "version": 3
   },
   "file_extension": ".py",
   "mimetype": "text/x-python",
   "name": "python",
   "nbconvert_exporter": "python",
   "pygments_lexer": "ipython3",
   "version": "3.9.7"
  }
 },
 "nbformat": 4,
 "nbformat_minor": 5
}
