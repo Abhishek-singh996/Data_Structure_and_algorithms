{
 "cells": [
  {
   "cell_type": "code",
   "execution_count": 22,
   "id": "a23c3531",
   "metadata": {},
   "outputs": [],
   "source": [
    "def partition(arr,p,q):\n",
    "    x = arr[p]\n",
    "    i = p\n",
    "    for j in range(p+1,q+1):\n",
    "        if arr[j]<=x:\n",
    "            i+=1\n",
    "            arr[i],arr[j] = arr[j],arr[i]\n",
    "    arr[i],arr[p] = arr[p],arr[i]\n",
    "    return i\n",
    "        "
   ]
  },
  {
   "cell_type": "code",
   "execution_count": 23,
   "id": "f483c0d9",
   "metadata": {},
   "outputs": [],
   "source": [
    "def selectionProcedure(arr,p,q,k):\n",
    "    if p==q:\n",
    "        return arr[p]\n",
    "    else:\n",
    "        m = partition(arr,p,q)\n",
    "        if m==k:\n",
    "            return arr[k]\n",
    "        elif m<k:\n",
    "            return selectionProcedure(arr,m+1,q,k)\n",
    "        else:\n",
    "            return selectionProcedure(arr,p,m-1,k)"
   ]
  },
  {
   "cell_type": "code",
   "execution_count": 24,
   "id": "6120a713",
   "metadata": {},
   "outputs": [
    {
     "name": "stdout",
     "output_type": "stream",
     "text": [
      " 4th smallest number is: 23\n"
     ]
    }
   ],
   "source": [
    "arr = [10,20,30,40,11,23,67]\n",
    "n = len(arr)\n",
    "k = 3\n",
    "p=0\n",
    "q=len(arr)-1\n",
    "result=selectionProcedure(arr,p,q,k)\n",
    "print(f\" {k+1}th smallest number is:\", result)"
   ]
  },
  {
   "cell_type": "code",
   "execution_count": null,
   "id": "916adae5",
   "metadata": {},
   "outputs": [],
   "source": []
  }
 ],
 "metadata": {
  "kernelspec": {
   "display_name": "Python 3.9 (tensorflow)",
   "language": "python",
   "name": "tensorflow"
  },
  "language_info": {
   "codemirror_mode": {
    "name": "ipython",
    "version": 3
   },
   "file_extension": ".py",
   "mimetype": "text/x-python",
   "name": "python",
   "nbconvert_exporter": "python",
   "pygments_lexer": "ipython3",
   "version": "3.9.7"
  }
 },
 "nbformat": 4,
 "nbformat_minor": 5
}
