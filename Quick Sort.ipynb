{
 "cells": [
  {
   "cell_type": "code",
   "execution_count": 53,
   "id": "b4a856bb",
   "metadata": {},
   "outputs": [],
   "source": [
    "def partition(arr,low,high):# arr = array,low = lower index of array, high = higher index of array\n",
    "    pivot = arr [low] #first element as pivot\n",
    "    i = low # moving index\n",
    "    for j in range(low+1,high+1):         #traversing the array to change ,high+1 as range function dosen't include last element\n",
    "        if arr[j]<=pivot:# comparing with pivot and if it is less than or equal then swap it with moving index element\n",
    "            i+=1                              #moving index increased by 1\n",
    "            arr[i],arr[j]=arr[j],arr[i]       #swapping moving  index element  with arr[j]\n",
    "    arr[i],arr[low]= arr[low],arr[i]      #swapping the pivot element with the moving index element\n",
    "    return i                              #moving index"
   ]
  },
  {
   "cell_type": "code",
   "execution_count": 54,
   "id": "2ecb2e11",
   "metadata": {},
   "outputs": [
    {
     "data": {
      "text/plain": [
       "4"
      ]
     },
     "execution_count": 54,
     "metadata": {},
     "output_type": "execute_result"
    }
   ],
   "source": [
    "arr = [50,70,80,30,40,88,19,27,69]\n",
    "partition(arr,0,8)"
   ]
  },
  {
   "cell_type": "code",
   "execution_count": 55,
   "id": "7f94ae99",
   "metadata": {},
   "outputs": [],
   "source": [
    "def quickSort(arr,low,high):# array = arr, low = lower index of array, high = higher index of array\n",
    "    if len(arr)==1:# small problem  Time complexity : O(1)\n",
    "        return arr\n",
    "    if low<high:# if length of the array is not one\n",
    "        m = partition(arr,low,high) #Time complexity O(n),where n = high-low+1\n",
    "        quickSort(arr,low,m-1)      #T(m-low),m = partition index,left partition recursive call \n",
    "        quickSort(arr,m+1,high)     #T(high-m),m = partition index,right partition recursive call"
   ]
  },
  {
   "cell_type": "code",
   "execution_count": 56,
   "id": "ec9cf64c",
   "metadata": {},
   "outputs": [],
   "source": [
    "import time"
   ]
  },
  {
   "cell_type": "code",
   "execution_count": 57,
   "id": "e32f4098",
   "metadata": {},
   "outputs": [
    {
     "name": "stdout",
     "output_type": "stream",
     "text": [
      "[19, 27, 30, 40, 50, 69, 70, 80, 88]\n",
      "Time taken :  0.19025802612304688\n"
     ]
    }
   ],
   "source": [
    "start = time.time()\n",
    "arr=[50,70,80,30,40,88,19,27,69]\n",
    "quicksort(arr,0,8)\n",
    "end = time.time()\n",
    "print(arr)\n",
    "print(\"Time taken : \",(end-start)*1000)"
   ]
  },
  {
   "cell_type": "code",
   "execution_count": 58,
   "id": "4286efbb",
   "metadata": {},
   "outputs": [
    {
     "name": "stdout",
     "output_type": "stream",
     "text": [
      "[1, 2, 3, 4, 5, 6, 7, 8, 9]\n",
      "Time Taken:  0.1628398895263672\n"
     ]
    }
   ],
   "source": [
    "#case I asceding order of array of 9 elements\n",
    "start = time.time()\n",
    "arr1=[1,2,3,4,5,6,7,8,9]\n",
    "quickSort(arr1,0,8)\n",
    "end=time.time()\n",
    "print(arr1)\n",
    "print(\"Time Taken: \",(end-start)*1000)"
   ]
  },
  {
   "cell_type": "code",
   "execution_count": 59,
   "id": "a00a27b7",
   "metadata": {},
   "outputs": [
    {
     "name": "stdout",
     "output_type": "stream",
     "text": [
      "[1, 2, 3, 4, 5, 6, 7, 8, 9]\n",
      "Time taken:  0.1621246337890625\n"
     ]
    }
   ],
   "source": [
    "#case II descending order of array of 9 elements\n",
    "start = time.time()\n",
    "arr2=[9,8,7,6,5,4,3,2,1]\n",
    "quickSort(arr2,0,8)\n",
    "end=time.time()\n",
    "print(arr2)\n",
    "print(\"Time taken: \",(end-start)*1000)"
   ]
  },
  {
   "cell_type": "code",
   "execution_count": 60,
   "id": "658abc39",
   "metadata": {},
   "outputs": [
    {
     "name": "stdout",
     "output_type": "stream",
     "text": [
      "[9, 9, 9, 9, 9, 9, 9, 9, 9]\n",
      "Time taken:  0.15687942504882812\n"
     ]
    }
   ],
   "source": [
    "#caseIII identical element array of 9 elements\n",
    "start= time.time()\n",
    "arr3=[9,9,9,9,9,9,9,9,9]\n",
    "quickSort(arr3,0,8)\n",
    "end=time.time()\n",
    "print(arr3)\n",
    "print(\"Time taken: \",(end-start)*1000)"
   ]
  },
  {
   "cell_type": "code",
   "execution_count": null,
   "id": "12f713e0",
   "metadata": {},
   "outputs": [],
   "source": []
  }
 ],
 "metadata": {
  "kernelspec": {
   "display_name": "Python 3.9 (tensorflow)",
   "language": "python",
   "name": "tensorflow"
  },
  "language_info": {
   "codemirror_mode": {
    "name": "ipython",
    "version": 3
   },
   "file_extension": ".py",
   "mimetype": "text/x-python",
   "name": "python",
   "nbconvert_exporter": "python",
   "pygments_lexer": "ipython3",
   "version": "3.9.7"
  }
 },
 "nbformat": 4,
 "nbformat_minor": 5
}
