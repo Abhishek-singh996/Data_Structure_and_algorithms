{
 "cells": [
  {
   "cell_type": "code",
   "execution_count": 3,
   "id": "b07dae9b",
   "metadata": {},
   "outputs": [
    {
     "name": "stdout",
     "output_type": "stream",
     "text": [
      "Enter the number of rows:3\n",
      "Enter the number of columns:3\n",
      "Enter the elements of the matrix:\n",
      "1 2 3\n",
      "4 5 6\n",
      "7 8 9\n",
      "The elements are taken out from the matrix in the clockwise spiral direction.\n",
      "1 2 3 6 9 8 7 4 5 "
     ]
    }
   ],
   "source": [
    "# Python3 program to print the given matrix in spiral form \n",
    "def spiralPrint(m,n,a): \n",
    "    k=0;l=0\n",
    "    ''' k - starting row index \n",
    "        m - ending row index \n",
    "        l - starting column index \n",
    "        n - ending column index \n",
    "        i - iterator '''\n",
    "    while(k<m and l<n):\n",
    "        # Print the first row from \n",
    "        # the remaining rows  \n",
    "        for i in range(l,n) : \n",
    "            print(a[k][i],end=\" \")\n",
    "        k += 1\n",
    "        # Print the last column from \n",
    "        # the remaining columns  \n",
    "        for i in range(k,m) : \n",
    "            print(a[i][n-1],end=\" \") \n",
    "        n -= 1\n",
    "        # Print the last row from \n",
    "        # the remaining rows  \n",
    "        if(k<m):     \n",
    "            for i in range(n-1,(l-1),-1) : \n",
    "                print(a[m-1][i], end = \" \") \n",
    "            m-=1\n",
    "        # Print the first column from \n",
    "        # the remaining columns  \n",
    "        if(l<n):\n",
    "            for i in range(m - 1, k - 1, -1) : \n",
    "                print(a[i][l],end=\" \")\n",
    "            l+=1\n",
    "  \n",
    "# Driver Code \n",
    "R=int(input(\"Enter the number of rows:\"))\n",
    "C=int(input(\"Enter the number of columns:\"))\n",
    "a=[]\n",
    "print(\"Enter the elements of the matrix:\")\n",
    "for i in range(R):\n",
    "    l=list(map(int,input().split(\" \")))\n",
    "    a.append(l)\n",
    "print(\"The elements are taken out from the matrix in the clockwise spiral direction.\")\n",
    "spiralPrint(R,C,a)"
   ]
  },
  {
   "cell_type": "markdown",
   "id": "75818dea",
   "metadata": {},
   "source": [
    "##### "
   ]
  }
 ],
 "metadata": {
  "kernelspec": {
   "display_name": "Python 3.9 (tensorflow)",
   "language": "python",
   "name": "tensorflow"
  },
  "language_info": {
   "codemirror_mode": {
    "name": "ipython",
    "version": 3
   },
   "file_extension": ".py",
   "mimetype": "text/x-python",
   "name": "python",
   "nbconvert_exporter": "python",
   "pygments_lexer": "ipython3",
   "version": "3.9.7"
  }
 },
 "nbformat": 4,
 "nbformat_minor": 5
}
