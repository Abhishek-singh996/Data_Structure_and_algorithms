{
 "cells": [
  {
   "cell_type": "code",
   "execution_count": 5,
   "id": "0a8da22c",
   "metadata": {},
   "outputs": [
    {
     "name": "stdout",
     "output_type": "stream",
     "text": [
      "[7, 50, 75, 85, 90, 95, 100, 110] "
     ]
    }
   ],
   "source": [
    "#time complexity worst case o(n^2)\n",
    "#program for insertion sort\n",
    "\n",
    "def insertionSort(arr):\n",
    "    for i in range(1,len(arr)):\n",
    "        value = arr[i]\n",
    "        j=i-1\n",
    "        while j>=0 and value<arr[j]:\n",
    "            arr[j+1] = arr[j]\n",
    "            j-=1\n",
    "        arr[j+1]=value\n",
    "    return arr\n",
    "arr = [75,90,100,95,85,50,110,7]\n",
    "result = insertionSort(arr)\n",
    "print(result,end=' ')"
   ]
  },
  {
   "cell_type": "code",
   "execution_count": null,
   "id": "1e685d25",
   "metadata": {},
   "outputs": [],
   "source": []
  }
 ],
 "metadata": {
  "kernelspec": {
   "display_name": "Python 3.9 (tensorflow)",
   "language": "python",
   "name": "tensorflow"
  },
  "language_info": {
   "codemirror_mode": {
    "name": "ipython",
    "version": 3
   },
   "file_extension": ".py",
   "mimetype": "text/x-python",
   "name": "python",
   "nbconvert_exporter": "python",
   "pygments_lexer": "ipython3",
   "version": "3.9.7"
  }
 },
 "nbformat": 4,
 "nbformat_minor": 5
}
