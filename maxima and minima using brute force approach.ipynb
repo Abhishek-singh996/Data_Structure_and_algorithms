{
 "cells": [
  {
   "cell_type": "code",
   "execution_count": 10,
   "id": "260d8884",
   "metadata": {},
   "outputs": [
    {
     "name": "stdout",
     "output_type": "stream",
     "text": [
      "max value is: 44\n",
      "min value is: -22\n"
     ]
    }
   ],
   "source": [
    "def max_min_array(arr):\n",
    "    i = 0\n",
    "    j = len(arr)-1\n",
    "    max_arr = arr[0]\n",
    "    min_arr = arr[0]\n",
    "    if i==j:\n",
    "        max_arr=arr[i]\n",
    "        min_arr=arr[i]\n",
    "        return max_arr,min_arr\n",
    "    for i in range(1,len(arr)):\n",
    "        if arr[i]>max_arr:\n",
    "            max_arr = arr[i]\n",
    "        elif arr[i]<min_arr:\n",
    "            min_arr = arr[i]\n",
    "    return max_arr, min_arr\n",
    "arr = [1,3,4,5,6,11,-22,44,32]\n",
    "result = max_min_array(arr)\n",
    "print(\"max value is:\",result[0])\n",
    "print(\"min value is:\",result[-1])\n",
    "            \n",
    "        "
   ]
  },
  {
   "cell_type": "code",
   "execution_count": null,
   "id": "cba36126",
   "metadata": {},
   "outputs": [],
   "source": []
  }
 ],
 "metadata": {
  "kernelspec": {
   "display_name": "Python 3.9 (tensorflow)",
   "language": "python",
   "name": "tensorflow"
  },
  "language_info": {
   "codemirror_mode": {
    "name": "ipython",
    "version": 3
   },
   "file_extension": ".py",
   "mimetype": "text/x-python",
   "name": "python",
   "nbconvert_exporter": "python",
   "pygments_lexer": "ipython3",
   "version": "3.9.7"
  }
 },
 "nbformat": 4,
 "nbformat_minor": 5
}
