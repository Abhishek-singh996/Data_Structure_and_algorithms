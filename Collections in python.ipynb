{
 "cells": [
  {
   "cell_type": "markdown",
   "id": "a98cb7a4",
   "metadata": {},
   "source": [
    "# Default dictionary"
   ]
  },
  {
   "cell_type": "code",
   "execution_count": 2,
   "id": "e3580fc8",
   "metadata": {},
   "outputs": [],
   "source": [
    "from collections import defaultdict"
   ]
  },
  {
   "cell_type": "code",
   "execution_count": 3,
   "id": "83577cf9",
   "metadata": {},
   "outputs": [],
   "source": [
    "nums = defaultdict(int)"
   ]
  },
  {
   "cell_type": "code",
   "execution_count": 4,
   "id": "4aec1ea1",
   "metadata": {},
   "outputs": [],
   "source": [
    "nums['one'] = 1"
   ]
  },
  {
   "cell_type": "code",
   "execution_count": 5,
   "id": "aa2f131d",
   "metadata": {},
   "outputs": [],
   "source": [
    "nums['two'] = 2"
   ]
  },
  {
   "cell_type": "code",
   "execution_count": 6,
   "id": "990a6849",
   "metadata": {},
   "outputs": [],
   "source": [
    "nums['three'] = 3"
   ]
  },
  {
   "cell_type": "code",
   "execution_count": 7,
   "id": "a4420a8e",
   "metadata": {},
   "outputs": [],
   "source": [
    "nums['four'] = 4"
   ]
  },
  {
   "cell_type": "code",
   "execution_count": 9,
   "id": "93ecffe6",
   "metadata": {},
   "outputs": [
    {
     "name": "stdout",
     "output_type": "stream",
     "text": [
      "value is:  0\n"
     ]
    }
   ],
   "source": [
    "print('value is: ',nums['five'])"
   ]
  },
  {
   "cell_type": "markdown",
   "id": "277efcd5",
   "metadata": {},
   "source": [
    "# counter"
   ]
  },
  {
   "cell_type": "code",
   "execution_count": 11,
   "id": "efdae4e0",
   "metadata": {},
   "outputs": [],
   "source": [
    "from collections import Counter"
   ]
  },
  {
   "cell_type": "code",
   "execution_count": 15,
   "id": "940d572a",
   "metadata": {},
   "outputs": [],
   "source": [
    "count = Counter('missingdata')"
   ]
  },
  {
   "cell_type": "code",
   "execution_count": 16,
   "id": "7b042aaf",
   "metadata": {},
   "outputs": [
    {
     "name": "stdout",
     "output_type": "stream",
     "text": [
      "vlaue of count i is: 2\n"
     ]
    }
   ],
   "source": [
    "print('vlaue of count i is:',count['i'])"
   ]
  },
  {
   "cell_type": "code",
   "execution_count": 17,
   "id": "d039c292",
   "metadata": {},
   "outputs": [],
   "source": [
    "arr = [1,2,3,4,5,61,2,3,4,45,5]"
   ]
  },
  {
   "cell_type": "code",
   "execution_count": 18,
   "id": "4bf49592",
   "metadata": {},
   "outputs": [],
   "source": [
    "count1 = Counter(arr)"
   ]
  },
  {
   "cell_type": "code",
   "execution_count": 20,
   "id": "5525c4e0",
   "metadata": {},
   "outputs": [
    {
     "name": "stdout",
     "output_type": "stream",
     "text": [
      "value of count 2\n"
     ]
    }
   ],
   "source": [
    "print('value of count',count1[3])"
   ]
  },
  {
   "cell_type": "markdown",
   "id": "6d8976d3",
   "metadata": {},
   "source": [
    "# Deque"
   ]
  },
  {
   "cell_type": "code",
   "execution_count": 1,
   "id": "b5f58852",
   "metadata": {},
   "outputs": [],
   "source": [
    "from collections import deque"
   ]
  },
  {
   "cell_type": "code",
   "execution_count": 2,
   "id": "cf3b3eac",
   "metadata": {},
   "outputs": [],
   "source": [
    "queue = deque()"
   ]
  },
  {
   "cell_type": "code",
   "execution_count": 4,
   "id": "2fb4a15e",
   "metadata": {},
   "outputs": [],
   "source": [
    "queue.appendleft(232)"
   ]
  },
  {
   "cell_type": "code",
   "execution_count": 5,
   "id": "5d0ed2fb",
   "metadata": {},
   "outputs": [],
   "source": [
    "queue.appendleft(454)"
   ]
  },
  {
   "cell_type": "code",
   "execution_count": 6,
   "id": "a82fe689",
   "metadata": {},
   "outputs": [],
   "source": [
    "queue.appendleft(522)"
   ]
  },
  {
   "cell_type": "code",
   "execution_count": 9,
   "id": "3c4d0295",
   "metadata": {},
   "outputs": [
    {
     "ename": "AttributeError",
     "evalue": "'collections.deque' object has no attribute 'appendright'",
     "output_type": "error",
     "traceback": [
      "\u001b[0;31m---------------------------------------------------------------------------\u001b[0m",
      "\u001b[0;31mAttributeError\u001b[0m                            Traceback (most recent call last)",
      "\u001b[0;32m/var/folders/ty/31gw3fh17wj8ntq2mw14wxzr0000gn/T/ipykernel_1539/1016002313.py\u001b[0m in \u001b[0;36m<module>\u001b[0;34m\u001b[0m\n\u001b[0;32m----> 1\u001b[0;31m \u001b[0mqueue\u001b[0m\u001b[0;34m.\u001b[0m\u001b[0mappendright\u001b[0m\u001b[0;34m(\u001b[0m\u001b[0;36m3455\u001b[0m\u001b[0;34m)\u001b[0m\u001b[0;34m\u001b[0m\u001b[0;34m\u001b[0m\u001b[0m\n\u001b[0m",
      "\u001b[0;31mAttributeError\u001b[0m: 'collections.deque' object has no attribute 'appendright'"
     ]
    }
   ],
   "source": [
    "queue.appendright(3455)"
   ]
  },
  {
   "cell_type": "code",
   "execution_count": 7,
   "id": "63f25ffa",
   "metadata": {},
   "outputs": [
    {
     "data": {
      "text/plain": [
       "deque([522, 454, 232])"
      ]
     },
     "execution_count": 7,
     "metadata": {},
     "output_type": "execute_result"
    }
   ],
   "source": [
    "queue"
   ]
  },
  {
   "cell_type": "code",
   "execution_count": 8,
   "id": "d170e21a",
   "metadata": {},
   "outputs": [
    {
     "data": {
      "text/plain": [
       "232"
      ]
     },
     "execution_count": 8,
     "metadata": {},
     "output_type": "execute_result"
    }
   ],
   "source": [
    "queue.pop()"
   ]
  },
  {
   "cell_type": "code",
   "execution_count": 10,
   "id": "37e8b7a2",
   "metadata": {},
   "outputs": [
    {
     "data": {
      "text/plain": [
       "522"
      ]
     },
     "execution_count": 10,
     "metadata": {},
     "output_type": "execute_result"
    }
   ],
   "source": [
    "queue.popleft()"
   ]
  },
  {
   "cell_type": "code",
   "execution_count": null,
   "id": "52f9bbce",
   "metadata": {},
   "outputs": [],
   "source": []
  }
 ],
 "metadata": {
  "kernelspec": {
   "display_name": "Python 3.9 (tensorflow)",
   "language": "python",
   "name": "tensorflow"
  },
  "language_info": {
   "codemirror_mode": {
    "name": "ipython",
    "version": 3
   },
   "file_extension": ".py",
   "mimetype": "text/x-python",
   "name": "python",
   "nbconvert_exporter": "python",
   "pygments_lexer": "ipython3",
   "version": "3.9.7"
  }
 },
 "nbformat": 4,
 "nbformat_minor": 5
}
