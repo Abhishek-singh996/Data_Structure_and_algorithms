{
 "cells": [
  {
   "cell_type": "code",
   "execution_count": 16,
   "id": "de2136d2",
   "metadata": {},
   "outputs": [
    {
     "name": "stdout",
     "output_type": "stream",
     "text": [
      "searching value is present at index: 0\n"
     ]
    }
   ],
   "source": [
    "def binarySearch(array,n,x):\n",
    "    #time complexity o(log n)\n",
    "    i = 0\n",
    "    j = len(array)-1\n",
    "    mid = 0\n",
    "    while i<=j:\n",
    "        mid = i + (j - i)//2\n",
    "        if array[mid]==x:\n",
    "            return mid\n",
    "        elif array[mid]<x:\n",
    "            i = mid+1\n",
    "        else:\n",
    "            j = mid-1\n",
    "    #print(\"value is not present\")\n",
    "array = [10,23,44,55,66,77,89,99]\n",
    "x = 10\n",
    "n = len(array)\n",
    "result = binarySearch(array,n,x)\n",
    "print(\"searching value is present at index:\",result)"
   ]
  },
  {
   "cell_type": "code",
   "execution_count": null,
   "id": "4cd3a243",
   "metadata": {},
   "outputs": [],
   "source": []
  }
 ],
 "metadata": {
  "kernelspec": {
   "display_name": "Python 3.9 (tensorflow)",
   "language": "python",
   "name": "tensorflow"
  },
  "language_info": {
   "codemirror_mode": {
    "name": "ipython",
    "version": 3
   },
   "file_extension": ".py",
   "mimetype": "text/x-python",
   "name": "python",
   "nbconvert_exporter": "python",
   "pygments_lexer": "ipython3",
   "version": "3.9.7"
  }
 },
 "nbformat": 4,
 "nbformat_minor": 5
}
