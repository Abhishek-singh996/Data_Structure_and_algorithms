{
 "cells": [
  {
   "cell_type": "markdown",
   "id": "ff4e9c13",
   "metadata": {},
   "source": [
    "# Stack implementation"
   ]
  },
  {
   "cell_type": "code",
   "execution_count": 9,
   "id": "c35a37a8",
   "metadata": {},
   "outputs": [],
   "source": [
    "stack = []\n"
   ]
  },
  {
   "cell_type": "code",
   "execution_count": 10,
   "id": "6f4e8c6e",
   "metadata": {},
   "outputs": [],
   "source": [
    "stack.append(2)\n",
    "stack.append(24)\n",
    "stack.append(45)\n",
    "stack.append(67)"
   ]
  },
  {
   "cell_type": "code",
   "execution_count": 11,
   "id": "302bc9df",
   "metadata": {},
   "outputs": [
    {
     "data": {
      "text/plain": [
       "[2, 24, 45, 67]"
      ]
     },
     "execution_count": 11,
     "metadata": {},
     "output_type": "execute_result"
    }
   ],
   "source": [
    "stack"
   ]
  },
  {
   "cell_type": "code",
   "execution_count": 12,
   "id": "a9682f57",
   "metadata": {},
   "outputs": [
    {
     "data": {
      "text/plain": [
       "67"
      ]
     },
     "execution_count": 12,
     "metadata": {},
     "output_type": "execute_result"
    }
   ],
   "source": [
    "stack.pop()"
   ]
  },
  {
   "cell_type": "code",
   "execution_count": 13,
   "id": "4a50693e",
   "metadata": {},
   "outputs": [
    {
     "data": {
      "text/plain": [
       "[2, 24, 45]"
      ]
     },
     "execution_count": 13,
     "metadata": {},
     "output_type": "execute_result"
    }
   ],
   "source": [
    "stack"
   ]
  },
  {
   "cell_type": "code",
   "execution_count": 15,
   "id": "d875017b",
   "metadata": {},
   "outputs": [
    {
     "ename": "AttributeError",
     "evalue": "'list' object has no attribute 'push'",
     "output_type": "error",
     "traceback": [
      "\u001b[0;31m---------------------------------------------------------------------------\u001b[0m",
      "\u001b[0;31mAttributeError\u001b[0m                            Traceback (most recent call last)",
      "\u001b[0;32m/var/folders/ty/31gw3fh17wj8ntq2mw14wxzr0000gn/T/ipykernel_11815/3791848384.py\u001b[0m in \u001b[0;36m<module>\u001b[0;34m\u001b[0m\n\u001b[0;32m----> 1\u001b[0;31m \u001b[0mstack\u001b[0m\u001b[0;34m.\u001b[0m\u001b[0mpush\u001b[0m\u001b[0;34m(\u001b[0m\u001b[0;36m12\u001b[0m\u001b[0;34m)\u001b[0m \u001b[0;31m#in python insertion operation support append instead of push\u001b[0m\u001b[0;34m\u001b[0m\u001b[0;34m\u001b[0m\u001b[0m\n\u001b[0m",
      "\u001b[0;31mAttributeError\u001b[0m: 'list' object has no attribute 'push'"
     ]
    }
   ],
   "source": [
    "stack.push(12) #in python insertion operation support append instead of push"
   ]
  },
  {
   "cell_type": "markdown",
   "id": "d6b5266f",
   "metadata": {},
   "source": [
    "# Queue implementation"
   ]
  },
  {
   "cell_type": "code",
   "execution_count": 16,
   "id": "85439bf4",
   "metadata": {},
   "outputs": [],
   "source": [
    "queue= []\n"
   ]
  },
  {
   "cell_type": "code",
   "execution_count": 17,
   "id": "8f815f93",
   "metadata": {},
   "outputs": [],
   "source": [
    "queue.insert(0,280)\n",
    "queue.insert(0,230)\n",
    "queue.insert(0,980)"
   ]
  },
  {
   "cell_type": "code",
   "execution_count": 18,
   "id": "0a9ff612",
   "metadata": {},
   "outputs": [
    {
     "data": {
      "text/plain": [
       "[980, 230, 280]"
      ]
     },
     "execution_count": 18,
     "metadata": {},
     "output_type": "execute_result"
    }
   ],
   "source": [
    "queue"
   ]
  },
  {
   "cell_type": "code",
   "execution_count": 19,
   "id": "f85f5906",
   "metadata": {},
   "outputs": [
    {
     "data": {
      "text/plain": [
       "280"
      ]
     },
     "execution_count": 19,
     "metadata": {},
     "output_type": "execute_result"
    }
   ],
   "source": [
    "queue.pop()"
   ]
  },
  {
   "cell_type": "code",
   "execution_count": 20,
   "id": "49d490cb",
   "metadata": {},
   "outputs": [
    {
     "data": {
      "text/plain": [
       "230"
      ]
     },
     "execution_count": 20,
     "metadata": {},
     "output_type": "execute_result"
    }
   ],
   "source": [
    "queue.pop()"
   ]
  },
  {
   "cell_type": "code",
   "execution_count": 21,
   "id": "94f1a37e",
   "metadata": {},
   "outputs": [
    {
     "data": {
      "text/plain": [
       "[980]"
      ]
     },
     "execution_count": 21,
     "metadata": {},
     "output_type": "execute_result"
    }
   ],
   "source": [
    "queue"
   ]
  },
  {
   "cell_type": "code",
   "execution_count": null,
   "id": "cf5d0871",
   "metadata": {},
   "outputs": [],
   "source": []
  }
 ],
 "metadata": {
  "kernelspec": {
   "display_name": "Python 3.9 (tensorflow)",
   "language": "python",
   "name": "tensorflow"
  },
  "language_info": {
   "codemirror_mode": {
    "name": "ipython",
    "version": 3
   },
   "file_extension": ".py",
   "mimetype": "text/x-python",
   "name": "python",
   "nbconvert_exporter": "python",
   "pygments_lexer": "ipython3",
   "version": "3.9.7"
  }
 },
 "nbformat": 4,
 "nbformat_minor": 5
}
