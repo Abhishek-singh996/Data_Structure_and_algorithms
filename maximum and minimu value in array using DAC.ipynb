{
 "cells": [
  {
   "cell_type": "code",
   "execution_count": 5,
   "id": "510cd07e",
   "metadata": {},
   "outputs": [
    {
     "name": "stdout",
     "output_type": "stream",
     "text": [
      "max value is: 14354\n",
      "min value is: -60\n"
     ]
    }
   ],
   "source": [
    "def DAC_minmax(arr,p,q):\n",
    "    if p==q:\n",
    "        max_value=min_value=arr[p]\n",
    "    elif p==q-1:\n",
    "        if arr[p]<arr[q]:\n",
    "            max_value = arr[q]\n",
    "            min_value = arr[p]\n",
    "        else:\n",
    "            max_value = arr[p]\n",
    "            min_value = arr[q]\n",
    "    else:\n",
    "        mid = (p+q)//2\n",
    "        max_left, min_left = DAC_minmax(arr,p,mid)\n",
    "        max_right, min_right = DAC_minmax(arr,mid+1,q)\n",
    "        if max_right>max_left:\n",
    "            max_value = max_right\n",
    "        else:\n",
    "            max_value = max_left\n",
    "        if min_left>min_right:\n",
    "            min_value = min_right\n",
    "        else:\n",
    "            min_value = min_left\n",
    "    return max_value, min_value\n",
    "arr = [10,20,30,23,967,232,14354,-60]\n",
    "p = 0\n",
    "q = len(arr)-1\n",
    "result = DAC_minmax(arr,p,q)\n",
    "print(\"max value is:\",result[0])\n",
    "print(\"min value is:\",result[-1])"
   ]
  },
  {
   "cell_type": "code",
   "execution_count": null,
   "id": "f78c9b39",
   "metadata": {},
   "outputs": [],
   "source": []
  }
 ],
 "metadata": {
  "kernelspec": {
   "display_name": "Python 3.9 (tensorflow)",
   "language": "python",
   "name": "tensorflow"
  },
  "language_info": {
   "codemirror_mode": {
    "name": "ipython",
    "version": 3
   },
   "file_extension": ".py",
   "mimetype": "text/x-python",
   "name": "python",
   "nbconvert_exporter": "python",
   "pygments_lexer": "ipython3",
   "version": "3.9.7"
  }
 },
 "nbformat": 4,
 "nbformat_minor": 5
}
