{
 "cells": [
  {
   "cell_type": "code",
   "execution_count": 22,
   "id": "a0da61ae",
   "metadata": {},
   "outputs": [
    {
     "name": "stdout",
     "output_type": "stream",
     "text": [
      "True "
     ]
    }
   ],
   "source": [
    "def search2DSortedArray(mat,target):\n",
    "    i = 0\n",
    "    j = len(mat[0])-1\n",
    "    n = len(mat)\n",
    "    #time complexity o(n)\n",
    "    while(i<n and j>=0):\n",
    "        if mat[i][j]==target:\n",
    "            return True\n",
    "        elif(mat[i][j]>target):\n",
    "            j-=1\n",
    "        else:\n",
    "            i+=1\n",
    "    return False\n",
    "    \n",
    "mat = [[1, 4, 7, 11, 14],[2, 5, 8, 12, 19],[3, 6, 9, 16, 22],[10, 13, 14, 17, 24],[18, 21, 23, 26, 30]]\n",
    "target = 5\n",
    "result = search2DSortedArray(mat, target)\n",
    "print(\"result is\", result)        "
   ]
  },
  {
   "cell_type": "code",
   "execution_count": null,
   "id": "3169f17b",
   "metadata": {},
   "outputs": [],
   "source": []
  }
 ],
 "metadata": {
  "kernelspec": {
   "display_name": "Python 3.9 (tensorflow)",
   "language": "python",
   "name": "tensorflow"
  },
  "language_info": {
   "codemirror_mode": {
    "name": "ipython",
    "version": 3
   },
   "file_extension": ".py",
   "mimetype": "text/x-python",
   "name": "python",
   "nbconvert_exporter": "python",
   "pygments_lexer": "ipython3",
   "version": "3.9.7"
  }
 },
 "nbformat": 4,
 "nbformat_minor": 5
}
