{
 "cells": [
  {
   "cell_type": "code",
   "execution_count": 1,
   "id": "e0f2802a",
   "metadata": {},
   "outputs": [
    {
     "name": "stdout",
     "output_type": "stream",
     "text": [
      "searching value is present at index: 6\n"
     ]
    }
   ],
   "source": [
    "def binarySearch(array,i,j,x):\n",
    "    #time complexity o(log n)\n",
    "    if i==j:\n",
    "        if array[i]==x:\n",
    "            return i\n",
    "        else:\n",
    "            return -1\n",
    "    else:\n",
    "        mid = i + (j - i)//2\n",
    "        if array[mid]==x:\n",
    "            return mid\n",
    "        elif array[mid]<x:\n",
    "            return binarySearch(array,mid+1,j,x)\n",
    "        else:\n",
    "            return binarySearch(array,i,mid-1,x)\n",
    "    #print(\"value is not present\")\n",
    "array = [10,23,44,55,66,77,89,99]\n",
    "x = 89\n",
    "i = 0\n",
    "j = len(array)-1\n",
    "result = binarySearch(array,i,j,x)\n",
    "print(\"searching value is present at index:\",result)"
   ]
  },
  {
   "cell_type": "code",
   "execution_count": null,
   "id": "2fcb7358",
   "metadata": {},
   "outputs": [],
   "source": []
  }
 ],
 "metadata": {
  "kernelspec": {
   "display_name": "Python 3.9 (tensorflow)",
   "language": "python",
   "name": "tensorflow"
  },
  "language_info": {
   "codemirror_mode": {
    "name": "ipython",
    "version": 3
   },
   "file_extension": ".py",
   "mimetype": "text/x-python",
   "name": "python",
   "nbconvert_exporter": "python",
   "pygments_lexer": "ipython3",
   "version": "3.9.7"
  }
 },
 "nbformat": 4,
 "nbformat_minor": 5
}
